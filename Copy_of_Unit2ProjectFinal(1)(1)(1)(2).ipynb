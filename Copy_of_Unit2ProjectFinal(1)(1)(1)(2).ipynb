{
 "cells": [
  {
   "cell_type": "markdown",
   "metadata": {
    "colab_type": "text",
    "id": "rz2oU7ecInim"
   },
   "source": [
    "# Load in some packages\n",
    "\n",
    "\n",
    "*   [ta](https://github.com/bukosabino/ta)\n",
    "* [xgboost](https://xgboost.readthedocs.io/en/latest/index.html)"
   ]
  },
  {
   "cell_type": "code",
   "execution_count": 1,
   "metadata": {
    "colab": {
     "base_uri": "https://localhost:8080/",
     "height": 1000
    },
    "colab_type": "code",
    "id": "Ws5QGFwlIoCM",
    "outputId": "937e6509-cc95-4e7b-db57-61ef6b1abf8b"
   },
   "outputs": [
    {
     "name": "stdout",
     "output_type": "stream",
     "text": [
      "Collecting ta\n",
      "  Downloading https://files.pythonhosted.org/packages/49/84/331c267d6594e10d0ed4e1ffbfb0b7fd9e94280f5e824855d7a40b8e4751/ta-0.4.7.tar.gz\n",
      "Collecting numpy\n",
      "  Downloading https://files.pythonhosted.org/packages/0e/46/ae6773894f7eacf53308086287897ec568eac9768918d913d5b9d366c5db/numpy-1.17.3-cp36-cp36m-manylinux1_x86_64.whl (20.0MB)\n",
      "Collecting pandas\n",
      "  Downloading https://files.pythonhosted.org/packages/86/12/08b092f6fc9e4c2552e37add0861d0e0e0d743f78f1318973caad970b3fc/pandas-0.25.2-cp36-cp36m-manylinux1_x86_64.whl (10.4MB)\n",
      "Collecting scikit-learn\n",
      "  Downloading https://files.pythonhosted.org/packages/a0/c5/d2238762d780dde84a20b8c761f563fe882b88c5a5fb03c056547c442a19/scikit_learn-0.21.3-cp36-cp36m-manylinux1_x86_64.whl (6.7MB)\n",
      "Collecting pytz>=2017.2\n",
      "  Downloading https://files.pythonhosted.org/packages/e7/f9/f0b53f88060247251bf481fa6ea62cd0d25bf1b11a87888e53ce5b7c8ad2/pytz-2019.3-py2.py3-none-any.whl (509kB)\n",
      "Requirement already satisfied: python-dateutil>=2.6.1 in ./env/lib/python3.6/site-packages (from pandas->ta) (2.8.0)\n",
      "Collecting joblib>=0.11\n",
      "  Downloading https://files.pythonhosted.org/packages/8f/42/155696f85f344c066e17af287359c9786b436b1bf86029bb3411283274f3/joblib-0.14.0-py2.py3-none-any.whl (294kB)\n",
      "Collecting scipy>=0.17.0\n",
      "  Downloading https://files.pythonhosted.org/packages/29/50/a552a5aff252ae915f522e44642bb49a7b7b31677f9580cfd11bcc869976/scipy-1.3.1-cp36-cp36m-manylinux1_x86_64.whl (25.2MB)\n",
      "Requirement already satisfied: six>=1.5 in ./env/lib/python3.6/site-packages (from python-dateutil>=2.6.1->pandas->ta) (1.12.0)\n",
      "Building wheels for collected packages: ta\n",
      "  Building wheel for ta (setup.py): started\n",
      "  Building wheel for ta (setup.py): finished with status 'done'\n",
      "  Created wheel for ta: filename=ta-0.4.7-cp36-none-any.whl size=18553 sha256=c9df9e57ad4b3b516991c148c41189dcef3a6f085ddb98c5d040a63604917256\n",
      "  Stored in directory: /home/spencer/.cache/pip/wheels/fe/58/16/b989347aa65ea8047524fdf38b5e70e2605e58eb8e46396368\n",
      "Successfully built ta\n",
      "Installing collected packages: numpy, pytz, pandas, joblib, scipy, scikit-learn, ta\n",
      "Successfully installed joblib-0.14.0 numpy-1.17.3 pandas-0.25.2 pytz-2019.3 scikit-learn-0.21.3 scipy-1.3.1 ta-0.4.7\n",
      "Collecting pandas_market_calendars\n",
      "  Downloading https://files.pythonhosted.org/packages/08/38/c7d2f38db8ca480b996b8b5cabed82f3a2f9825d585dd4c9ef123d82c936/pandas_market_calendars-1.2-py3-none-any.whl (50kB)\n",
      "Requirement already satisfied: pandas>=0.18 in ./env/lib/python3.6/site-packages (from pandas_market_calendars) (0.25.2)\n",
      "Requirement already satisfied: pytz in ./env/lib/python3.6/site-packages (from pandas_market_calendars) (2019.3)\n",
      "Requirement already satisfied: python-dateutil>=2.6.1 in ./env/lib/python3.6/site-packages (from pandas>=0.18->pandas_market_calendars) (2.8.0)\n",
      "Requirement already satisfied: numpy>=1.13.3 in ./env/lib/python3.6/site-packages (from pandas>=0.18->pandas_market_calendars) (1.17.3)\n",
      "Requirement already satisfied: six>=1.5 in ./env/lib/python3.6/site-packages (from python-dateutil>=2.6.1->pandas>=0.18->pandas_market_calendars) (1.12.0)\n",
      "Installing collected packages: pandas-market-calendars\n",
      "Successfully installed pandas-market-calendars-1.2\n",
      "Collecting xgboost\n",
      "  Downloading https://files.pythonhosted.org/packages/c1/24/5fe7237b2eca13ee0cfb100bec8c23f4e69ce9df852a64b0493d49dae4e0/xgboost-0.90-py2.py3-none-manylinux1_x86_64.whl (142.8MB)\n",
      "Requirement already satisfied: numpy in ./env/lib/python3.6/site-packages (from xgboost) (1.17.3)\n",
      "Requirement already satisfied: scipy in ./env/lib/python3.6/site-packages (from xgboost) (1.3.1)\n",
      "Installing collected packages: xgboost\n",
      "Successfully installed xgboost-0.90\n",
      "Requirement already satisfied: pandas in ./env/lib/python3.6/site-packages (0.25.2)\n",
      "Requirement already satisfied: numpy>=1.13.3 in ./env/lib/python3.6/site-packages (from pandas) (1.17.3)\n",
      "Requirement already satisfied: python-dateutil>=2.6.1 in ./env/lib/python3.6/site-packages (from pandas) (2.8.0)\n",
      "Requirement already satisfied: pytz>=2017.2 in ./env/lib/python3.6/site-packages (from pandas) (2019.3)\n",
      "Requirement already satisfied: six>=1.5 in ./env/lib/python3.6/site-packages (from python-dateutil>=2.6.1->pandas) (1.12.0)\n",
      "Collecting sklearn\n",
      "  Downloading https://files.pythonhosted.org/packages/1e/7a/dbb3be0ce9bd5c8b7e3d87328e79063f8b263b2b1bfa4774cb1147bfcd3f/sklearn-0.0.tar.gz\n",
      "Requirement already satisfied: scikit-learn in ./env/lib/python3.6/site-packages (from sklearn) (0.21.3)\n",
      "Requirement already satisfied: scipy>=0.17.0 in ./env/lib/python3.6/site-packages (from scikit-learn->sklearn) (1.3.1)\n",
      "Requirement already satisfied: numpy>=1.11.0 in ./env/lib/python3.6/site-packages (from scikit-learn->sklearn) (1.17.3)\n",
      "Requirement already satisfied: joblib>=0.11 in ./env/lib/python3.6/site-packages (from scikit-learn->sklearn) (0.14.0)\n",
      "Building wheels for collected packages: sklearn\n",
      "  Building wheel for sklearn (setup.py): started\n",
      "  Building wheel for sklearn (setup.py): finished with status 'done'\n",
      "  Created wheel for sklearn: filename=sklearn-0.0-py2.py3-none-any.whl size=1316 sha256=ecaf44fefeb555a81cd5c205f66b5749771618d7a3abc3dd89238385b87c088e\n",
      "  Stored in directory: /home/spencer/.cache/pip/wheels/76/03/bb/589d421d27431bcd2c6da284d5f2286c8e3b2ea3cf1594c074\n",
      "Successfully built sklearn\n",
      "Installing collected packages: sklearn\n",
      "Successfully installed sklearn-0.0\n",
      "Collecting matplotlib\n",
      "  Downloading https://files.pythonhosted.org/packages/57/4f/dd381ecf6c6ab9bcdaa8ea912e866dedc6e696756156d8ecc087e20817e2/matplotlib-3.1.1-cp36-cp36m-manylinux1_x86_64.whl (13.1MB)\n",
      "Collecting pyparsing!=2.0.4,!=2.1.2,!=2.1.6,>=2.0.1\n",
      "  Downloading https://files.pythonhosted.org/packages/11/fa/0160cd525c62d7abd076a070ff02b2b94de589f1a9789774f17d7c54058e/pyparsing-2.4.2-py2.py3-none-any.whl (65kB)\n",
      "Requirement already satisfied: python-dateutil>=2.1 in ./env/lib/python3.6/site-packages (from matplotlib) (2.8.0)\n",
      "Collecting cycler>=0.10\n",
      "  Downloading https://files.pythonhosted.org/packages/f7/d2/e07d3ebb2bd7af696440ce7e754c59dd546ffe1bbe732c8ab68b9c834e61/cycler-0.10.0-py2.py3-none-any.whl\n",
      "Collecting kiwisolver>=1.0.1\n",
      "  Downloading https://files.pythonhosted.org/packages/f8/a1/5742b56282449b1c0968197f63eae486eca2c35dcd334bab75ad524e0de1/kiwisolver-1.1.0-cp36-cp36m-manylinux1_x86_64.whl (90kB)\n",
      "Requirement already satisfied: numpy>=1.11 in ./env/lib/python3.6/site-packages (from matplotlib) (1.17.3)\n",
      "Requirement already satisfied: six>=1.5 in ./env/lib/python3.6/site-packages (from python-dateutil>=2.1->matplotlib) (1.12.0)\n",
      "Requirement already satisfied: setuptools in ./env/lib/python3.6/site-packages (from kiwisolver>=1.0.1->matplotlib) (41.4.0)\n",
      "Installing collected packages: pyparsing, cycler, kiwisolver, matplotlib\n",
      "Successfully installed cycler-0.10.0 kiwisolver-1.1.0 matplotlib-3.1.1 pyparsing-2.4.2\n",
      "Collecting eli5\n",
      "  Downloading https://files.pythonhosted.org/packages/97/2f/c85c7d8f8548e460829971785347e14e45fa5c6617da374711dec8cb38cc/eli5-0.10.1-py2.py3-none-any.whl (105kB)\n",
      "Requirement already satisfied: attrs>16.0.0 in ./env/lib/python3.6/site-packages (from eli5) (19.3.0)\n",
      "Collecting tabulate>=0.7.7\n",
      "  Downloading https://files.pythonhosted.org/packages/66/d4/977fdd5186b7cdbb7c43a7aac7c5e4e0337a84cb802e154616f3cfc84563/tabulate-0.8.5.tar.gz (45kB)\n",
      "Requirement already satisfied: six in ./env/lib/python3.6/site-packages (from eli5) (1.12.0)\n",
      "Requirement already satisfied: jinja2 in ./env/lib/python3.6/site-packages (from eli5) (2.10.3)\n",
      "Collecting graphviz\n",
      "  Downloading https://files.pythonhosted.org/packages/94/cd/7b37f2b658995033879719e1ea4c9f171bf7a14c16b79220bd19f9eda3fe/graphviz-0.13-py2.py3-none-any.whl\n",
      "Requirement already satisfied: numpy>=1.9.0 in ./env/lib/python3.6/site-packages (from eli5) (1.17.3)\n",
      "Requirement already satisfied: scikit-learn>=0.18 in ./env/lib/python3.6/site-packages (from eli5) (0.21.3)\n",
      "Requirement already satisfied: scipy in ./env/lib/python3.6/site-packages (from eli5) (1.3.1)\n",
      "Requirement already satisfied: MarkupSafe>=0.23 in ./env/lib/python3.6/site-packages (from jinja2->eli5) (1.1.1)\n",
      "Requirement already satisfied: joblib>=0.11 in ./env/lib/python3.6/site-packages (from scikit-learn>=0.18->eli5) (0.14.0)\n",
      "Building wheels for collected packages: tabulate\n",
      "  Building wheel for tabulate (setup.py): started\n",
      "  Building wheel for tabulate (setup.py): finished with status 'done'\n",
      "  Created wheel for tabulate: filename=tabulate-0.8.5-cp36-none-any.whl size=23255 sha256=000277adc78da38d41f4c858052202823588b0e56f06346fc0607f8118633b71\n",
      "  Stored in directory: /home/spencer/.cache/pip/wheels/e1/41/5e/e201f95d90fc84f93aa629b6638adacda680fe63aac47174ab\n",
      "Successfully built tabulate\n",
      "Installing collected packages: tabulate, graphviz, eli5\n",
      "Successfully installed eli5-0.10.1 graphviz-0.13 tabulate-0.8.5\n",
      "Collecting seaborn\n",
      "  Downloading https://files.pythonhosted.org/packages/a8/76/220ba4420459d9c4c9c9587c6ce607bf56c25b3d3d2de62056efe482dadc/seaborn-0.9.0-py3-none-any.whl (208kB)\n",
      "Requirement already satisfied: pandas>=0.15.2 in ./env/lib/python3.6/site-packages (from seaborn) (0.25.2)\n",
      "Requirement already satisfied: numpy>=1.9.3 in ./env/lib/python3.6/site-packages (from seaborn) (1.17.3)\n",
      "Requirement already satisfied: matplotlib>=1.4.3 in ./env/lib/python3.6/site-packages (from seaborn) (3.1.1)\n",
      "Requirement already satisfied: scipy>=0.14.0 in ./env/lib/python3.6/site-packages (from seaborn) (1.3.1)\n",
      "Requirement already satisfied: pytz>=2017.2 in ./env/lib/python3.6/site-packages (from pandas>=0.15.2->seaborn) (2019.3)\n",
      "Requirement already satisfied: python-dateutil>=2.6.1 in ./env/lib/python3.6/site-packages (from pandas>=0.15.2->seaborn) (2.8.0)\n",
      "Requirement already satisfied: cycler>=0.10 in ./env/lib/python3.6/site-packages (from matplotlib>=1.4.3->seaborn) (0.10.0)\n",
      "Requirement already satisfied: pyparsing!=2.0.4,!=2.1.2,!=2.1.6,>=2.0.1 in ./env/lib/python3.6/site-packages (from matplotlib>=1.4.3->seaborn) (2.4.2)\n",
      "Requirement already satisfied: kiwisolver>=1.0.1 in ./env/lib/python3.6/site-packages (from matplotlib>=1.4.3->seaborn) (1.1.0)\n",
      "Requirement already satisfied: six>=1.5 in ./env/lib/python3.6/site-packages (from python-dateutil>=2.6.1->pandas>=0.15.2->seaborn) (1.12.0)\n",
      "Requirement already satisfied: setuptools in ./env/lib/python3.6/site-packages (from kiwisolver>=1.0.1->matplotlib>=1.4.3->seaborn) (41.4.0)\n",
      "Installing collected packages: seaborn\n",
      "Successfully installed seaborn-0.9.0\n",
      "Collecting pandas_datareader\n",
      "  Downloading https://files.pythonhosted.org/packages/14/52/accb990baebe0063977f26e02df36aa7eb4015ed4e86f828cd76273cd6f1/pandas_datareader-0.8.1-py2.py3-none-any.whl (107kB)\n",
      "Collecting requests>=2.3.0\n",
      "  Downloading https://files.pythonhosted.org/packages/51/bd/23c926cd341ea6b7dd0b2a00aba99ae0f828be89d72b2190f27c11d4b7fb/requests-2.22.0-py2.py3-none-any.whl (57kB)\n",
      "Requirement already satisfied: pandas>=0.21 in ./env/lib/python3.6/site-packages (from pandas_datareader) (0.25.2)\n",
      "Collecting lxml\n",
      "  Downloading https://files.pythonhosted.org/packages/ec/be/5ab8abdd8663c0386ec2dd595a5bc0e23330a0549b8a91e32f38c20845b6/lxml-4.4.1-cp36-cp36m-manylinux1_x86_64.whl (5.8MB)\n",
      "Collecting certifi>=2017.4.17\n",
      "  Downloading https://files.pythonhosted.org/packages/18/b0/8146a4f8dd402f60744fa380bc73ca47303cccf8b9190fd16a827281eac2/certifi-2019.9.11-py2.py3-none-any.whl (154kB)\n",
      "Collecting urllib3!=1.25.0,!=1.25.1,<1.26,>=1.21.1\n",
      "  Downloading https://files.pythonhosted.org/packages/e0/da/55f51ea951e1b7c63a579c09dd7db825bb730ec1fe9c0180fc77bfb31448/urllib3-1.25.6-py2.py3-none-any.whl (125kB)\n",
      "Collecting idna<2.9,>=2.5\n",
      "  Downloading https://files.pythonhosted.org/packages/14/2c/cd551d81dbe15200be1cf41cd03869a46fe7226e7450af7a6545bfc474c9/idna-2.8-py2.py3-none-any.whl (58kB)\n",
      "Collecting chardet<3.1.0,>=3.0.2\n",
      "  Downloading https://files.pythonhosted.org/packages/bc/a9/01ffebfb562e4274b6487b4bb1ddec7ca55ec7510b22e4c51f14098443b8/chardet-3.0.4-py2.py3-none-any.whl (133kB)\n",
      "Requirement already satisfied: numpy>=1.13.3 in ./env/lib/python3.6/site-packages (from pandas>=0.21->pandas_datareader) (1.17.3)\n",
      "Requirement already satisfied: python-dateutil>=2.6.1 in ./env/lib/python3.6/site-packages (from pandas>=0.21->pandas_datareader) (2.8.0)\n",
      "Requirement already satisfied: pytz>=2017.2 in ./env/lib/python3.6/site-packages (from pandas>=0.21->pandas_datareader) (2019.3)\n",
      "Requirement already satisfied: six>=1.5 in ./env/lib/python3.6/site-packages (from python-dateutil>=2.6.1->pandas>=0.21->pandas_datareader) (1.12.0)\n",
      "Installing collected packages: certifi, urllib3, idna, chardet, requests, lxml, pandas-datareader\n",
      "Successfully installed certifi-2019.9.11 chardet-3.0.4 idna-2.8 lxml-4.4.1 pandas-datareader-0.8.1 requests-2.22.0 urllib3-1.25.6\n"
     ]
    }
   ],
   "source": [
    "%%sh\n",
    "pip install ta\n",
    "pip install pandas_market_calendars\n",
    "pip install xgboost\n",
    "pip install pandas\n",
    "pip install sklearn\n",
    "pip install matplotlib\n",
    "pip install eli5\n",
    "pip install seaborn\n",
    "pip install pandas_datareader"
   ]
  },
  {
   "cell_type": "code",
   "execution_count": 2,
   "metadata": {
    "colab": {},
    "colab_type": "code",
    "id": "cFoVxYg6IqJN"
   },
   "outputs": [],
   "source": [
    "import pandas as pd\n",
    "import numpy as np\n",
    "import matplotlib.pyplot as plt\n",
    "import scipy.stats as st\n",
    "import seaborn as sns\n",
    "plt.style.use('fivethirtyeight')\n",
    "%matplotlib inline\n",
    "from sklearn.model_selection import train_test_split\n",
    "from ta import *\n",
    "from scipy.stats import ttest_ind\n",
    "from scipy import stats\n",
    "from sklearn.neural_network import MLPClassifier\n",
    "from sklearn.ensemble import RandomForestClassifier, AdaBoostClassifier, ExtraTreesClassifier\n",
    "from sklearn.linear_model import LogisticRegression\n",
    "from sklearn.feature_selection import SelectFromModel\n",
    "from sklearn.metrics import auc, accuracy_score, roc_auc_score, roc_curve\n",
    "from sklearn.model_selection import GridSearchCV, RandomizedSearchCV\n",
    "from sklearn.metrics import classification_report\n",
    "from scipy import stats\n",
    "import pandas_datareader.data as web\n",
    "from datetime import datetime\n",
    "from sklearn.feature_selection import SelectFromModel\n",
    "from dateutil.rrule import *\n",
    "import pandas_market_calendars as mcal\n",
    "import time\n",
    "from sklearn.impute import SimpleImputer\n",
    "from sklearn.feature_selection import RFE\n",
    "from sklearn.preprocessing import MinMaxScaler\n",
    "from sklearn.decomposition import PCA\n",
    "import xgboost as xgb\n",
    "from xgboost import XGBClassifier\n",
    "from eli5.sklearn import PermutationImportance\n",
    "import sklearn\n",
    "import eli5\n",
    "from sklearn.neighbors import KNeighborsClassifier"
   ]
  },
  {
   "cell_type": "markdown",
   "metadata": {
    "colab_type": "text",
    "id": "PxrBBJKvIskr"
   },
   "source": [
    "# Change some pandas defaults"
   ]
  },
  {
   "cell_type": "code",
   "execution_count": 3,
   "metadata": {
    "colab": {},
    "colab_type": "code",
    "id": "0jE_Vv8iIuz2"
   },
   "outputs": [],
   "source": [
    "def start():\n",
    "    options = {\n",
    "        'display': {\n",
    "            'max_columns': None,\n",
    "            'max_colwidth': 25,\n",
    "            'expand_frame_repr': False,  # Don't wrap to multiple pages\n",
    "            'max_rows': 100,\n",
    "            'max_seq_items': 50,         # Max length of printed sequence\n",
    "            'precision': 4,\n",
    "            'show_dimensions': False\n",
    "        },\n",
    "        'mode': {\n",
    "            'chained_assignment': None   # Controls SettingWithCopyWarning\n",
    "        }\n",
    "    }\n",
    "    for category, option in options.items():\n",
    "        for op, value in option.items():\n",
    "            pd.set_option(f'{category}.{op}', value)  # Python 3.6+\n",
    "start()"
   ]
  },
  {
   "cell_type": "markdown",
   "metadata": {
    "colab_type": "text",
    "id": "QbturUqfIwOa"
   },
   "source": [
    "# Load in historical data for the SPY ETF"
   ]
  },
  {
   "cell_type": "code",
   "execution_count": 82,
   "metadata": {
    "colab": {
     "base_uri": "https://localhost:8080/",
     "height": 206
    },
    "colab_type": "code",
    "id": "-xklJkF3Iyl_",
    "outputId": "0ae117f0-2984-47de-bccf-b338a1ac1832"
   },
   "outputs": [
    {
     "data": {
      "text/html": [
       "<div>\n",
       "<style scoped>\n",
       "    .dataframe tbody tr th:only-of-type {\n",
       "        vertical-align: middle;\n",
       "    }\n",
       "\n",
       "    .dataframe tbody tr th {\n",
       "        vertical-align: top;\n",
       "    }\n",
       "\n",
       "    .dataframe thead th {\n",
       "        text-align: right;\n",
       "    }\n",
       "</style>\n",
       "<table border=\"1\" class=\"dataframe\">\n",
       "  <thead>\n",
       "    <tr style=\"text-align: right;\">\n",
       "      <th></th>\n",
       "      <th>Date</th>\n",
       "      <th>High</th>\n",
       "      <th>Low</th>\n",
       "      <th>Open</th>\n",
       "      <th>Close</th>\n",
       "      <th>Volume</th>\n",
       "      <th>Adj Close</th>\n",
       "    </tr>\n",
       "  </thead>\n",
       "  <tbody>\n",
       "    <tr>\n",
       "      <th>0</th>\n",
       "      <td>1993-01-29</td>\n",
       "      <td>43.9688</td>\n",
       "      <td>43.7500</td>\n",
       "      <td>43.9688</td>\n",
       "      <td>43.9375</td>\n",
       "      <td>1003200.0</td>\n",
       "      <td>26.5840</td>\n",
       "    </tr>\n",
       "    <tr>\n",
       "      <th>1</th>\n",
       "      <td>1993-02-01</td>\n",
       "      <td>44.2500</td>\n",
       "      <td>43.9688</td>\n",
       "      <td>43.9688</td>\n",
       "      <td>44.2500</td>\n",
       "      <td>480500.0</td>\n",
       "      <td>26.7730</td>\n",
       "    </tr>\n",
       "    <tr>\n",
       "      <th>2</th>\n",
       "      <td>1993-02-02</td>\n",
       "      <td>44.3750</td>\n",
       "      <td>44.1250</td>\n",
       "      <td>44.2188</td>\n",
       "      <td>44.3438</td>\n",
       "      <td>201300.0</td>\n",
       "      <td>26.8298</td>\n",
       "    </tr>\n",
       "    <tr>\n",
       "      <th>3</th>\n",
       "      <td>1993-02-03</td>\n",
       "      <td>44.8438</td>\n",
       "      <td>44.3750</td>\n",
       "      <td>44.4062</td>\n",
       "      <td>44.8125</td>\n",
       "      <td>529400.0</td>\n",
       "      <td>27.1134</td>\n",
       "    </tr>\n",
       "    <tr>\n",
       "      <th>4</th>\n",
       "      <td>1993-02-04</td>\n",
       "      <td>45.0938</td>\n",
       "      <td>44.4688</td>\n",
       "      <td>44.9688</td>\n",
       "      <td>45.0000</td>\n",
       "      <td>531500.0</td>\n",
       "      <td>27.2268</td>\n",
       "    </tr>\n",
       "  </tbody>\n",
       "</table>\n",
       "</div>"
      ],
      "text/plain": [
       "        Date     High      Low     Open    Close     Volume  Adj Close\n",
       "0 1993-01-29  43.9688  43.7500  43.9688  43.9375  1003200.0    26.5840\n",
       "1 1993-02-01  44.2500  43.9688  43.9688  44.2500   480500.0    26.7730\n",
       "2 1993-02-02  44.3750  44.1250  44.2188  44.3438   201300.0    26.8298\n",
       "3 1993-02-03  44.8438  44.3750  44.4062  44.8125   529400.0    27.1134\n",
       "4 1993-02-04  45.0938  44.4688  44.9688  45.0000   531500.0    27.2268"
      ]
     },
     "execution_count": 82,
     "metadata": {},
     "output_type": "execute_result"
    }
   ],
   "source": [
    "spy = web.DataReader(\"SPY\", 'yahoo', '1993-01-01').reset_index()\n",
    "spy.head()"
   ]
  },
  {
   "cell_type": "code",
   "execution_count": 441,
   "metadata": {
    "colab": {
     "base_uri": "https://localhost:8080/",
     "height": 206
    },
    "colab_type": "code",
    "id": "PZrzlqIvI1TL",
    "outputId": "24e8c96a-5622-475d-f659-4aa25ff270fd"
   },
   "outputs": [
    {
     "data": {
      "text/html": [
       "<div>\n",
       "<style scoped>\n",
       "    .dataframe tbody tr th:only-of-type {\n",
       "        vertical-align: middle;\n",
       "    }\n",
       "\n",
       "    .dataframe tbody tr th {\n",
       "        vertical-align: top;\n",
       "    }\n",
       "\n",
       "    .dataframe thead th {\n",
       "        text-align: right;\n",
       "    }\n",
       "</style>\n",
       "<table border=\"1\" class=\"dataframe\">\n",
       "  <thead>\n",
       "    <tr style=\"text-align: right;\">\n",
       "      <th></th>\n",
       "      <th>Date</th>\n",
       "      <th>High</th>\n",
       "      <th>Low</th>\n",
       "      <th>Open</th>\n",
       "      <th>Close</th>\n",
       "      <th>Volume</th>\n",
       "      <th>Adj Close</th>\n",
       "    </tr>\n",
       "  </thead>\n",
       "  <tbody>\n",
       "    <tr>\n",
       "      <th>2465</th>\n",
       "      <td>2019-10-18</td>\n",
       "      <td>299.400</td>\n",
       "      <td>297.030</td>\n",
       "      <td>298.69</td>\n",
       "      <td>297.970</td>\n",
       "      <td>6.4304e+07</td>\n",
       "      <td>297.970</td>\n",
       "    </tr>\n",
       "    <tr>\n",
       "      <th>2466</th>\n",
       "      <td>2019-10-21</td>\n",
       "      <td>300.210</td>\n",
       "      <td>298.940</td>\n",
       "      <td>299.42</td>\n",
       "      <td>299.990</td>\n",
       "      <td>3.9049e+07</td>\n",
       "      <td>299.990</td>\n",
       "    </tr>\n",
       "    <tr>\n",
       "      <th>2467</th>\n",
       "      <td>2019-10-22</td>\n",
       "      <td>300.900</td>\n",
       "      <td>298.910</td>\n",
       "      <td>300.58</td>\n",
       "      <td>299.010</td>\n",
       "      <td>4.8595e+07</td>\n",
       "      <td>299.010</td>\n",
       "    </tr>\n",
       "    <tr>\n",
       "      <th>2468</th>\n",
       "      <td>2019-10-23</td>\n",
       "      <td>299.940</td>\n",
       "      <td>298.500</td>\n",
       "      <td>298.73</td>\n",
       "      <td>299.880</td>\n",
       "      <td>3.4352e+07</td>\n",
       "      <td>299.880</td>\n",
       "    </tr>\n",
       "    <tr>\n",
       "      <th>2469</th>\n",
       "      <td>2019-10-24</td>\n",
       "      <td>301.065</td>\n",
       "      <td>299.465</td>\n",
       "      <td>300.91</td>\n",
       "      <td>300.235</td>\n",
       "      <td>2.5522e+07</td>\n",
       "      <td>300.235</td>\n",
       "    </tr>\n",
       "  </tbody>\n",
       "</table>\n",
       "</div>"
      ],
      "text/plain": [
       "           Date     High      Low    Open    Close      Volume  Adj Close\n",
       "2465 2019-10-18  299.400  297.030  298.69  297.970  6.4304e+07    297.970\n",
       "2466 2019-10-21  300.210  298.940  299.42  299.990  3.9049e+07    299.990\n",
       "2467 2019-10-22  300.900  298.910  300.58  299.010  4.8595e+07    299.010\n",
       "2468 2019-10-23  299.940  298.500  298.73  299.880  3.4352e+07    299.880\n",
       "2469 2019-10-24  301.065  299.465  300.91  300.235  2.5522e+07    300.235"
      ]
     },
     "execution_count": 441,
     "metadata": {},
     "output_type": "execute_result"
    }
   ],
   "source": [
    "spy.tail()"
   ]
  },
  {
   "cell_type": "code",
   "execution_count": 91,
   "metadata": {},
   "outputs": [
    {
     "data": {
      "text/plain": [
       "(6734, 7)"
      ]
     },
     "execution_count": 91,
     "metadata": {},
     "output_type": "execute_result"
    }
   ],
   "source": [
    "spy.shape"
   ]
  },
  {
   "cell_type": "markdown",
   "metadata": {
    "colab_type": "text",
    "id": "cZV6BKi2uchc"
   },
   "source": [
    "# get target"
   ]
  },
  {
   "cell_type": "code",
   "execution_count": 57,
   "metadata": {
    "colab": {},
    "colab_type": "code",
    "id": "z83rtUTNzzJw"
   },
   "outputs": [],
   "source": [
    "def get_target(df, days_out):\n",
    "    # avoid a copy warning from pandas\n",
    "    df = spy.copy()\n",
    "    # get the close price X days out\n",
    "    df['x_close'] = df['Close'].shift(days_out)\n",
    "    # round the close price down\n",
    "    df['Up Price'] = df['Close'].apply(np.ceil)\n",
    "    # is close price rounded up greater than \n",
    "    # the close price x days out \n",
    "    df['Up'] = df['x_close'] > df['Up Price']\n",
    "\n",
    "    # return the target\n",
    "    return df['Up']"
   ]
  },
  {
   "cell_type": "code",
   "execution_count": 90,
   "metadata": {
    "colab": {
     "base_uri": "https://localhost:8080/",
     "height": 1000
    },
    "colab_type": "code",
    "id": "YSUuxUHmugE6",
    "outputId": "a152f0f6-bd2b-409c-aac2-812442c8b745"
   },
   "outputs": [
    {
     "name": "stdout",
     "output_type": "stream",
     "text": [
      "(6734,)\n"
     ]
    },
    {
     "data": {
      "text/plain": [
       "6704    False\n",
       "6705    False\n",
       "6706    False\n",
       "6707    False\n",
       "6708    False\n",
       "6709    False\n",
       "6710     True\n",
       "6711     True\n",
       "6712     True\n",
       "6713     True\n",
       "6714    False\n",
       "6715    False\n",
       "6716    False\n",
       "6717    False\n",
       "6718    False\n",
       "6719    False\n",
       "6720    False\n",
       "6721    False\n",
       "6722    False\n",
       "6723    False\n",
       "6724    False\n",
       "6725    False\n",
       "6726    False\n",
       "6727    False\n",
       "6728    False\n",
       "6729    False\n",
       "6730    False\n",
       "6731    False\n",
       "6732    False\n",
       "6733    False\n",
       "Name: Up, dtype: bool"
      ]
     },
     "execution_count": 90,
     "metadata": {},
     "output_type": "execute_result"
    }
   ],
   "source": [
    "days_out = -20\n",
    "target = get_target(spy)\n",
    "print(target.shape)\n",
    "target.tail(30)"
   ]
  },
  {
   "cell_type": "code",
   "execution_count": 59,
   "metadata": {},
   "outputs": [
    {
     "data": {
      "text/plain": [
       "True     0.5731\n",
       "False    0.4269\n",
       "Name: Up, dtype: float64"
      ]
     },
     "execution_count": 59,
     "metadata": {},
     "output_type": "execute_result"
    }
   ],
   "source": [
    "target.value_counts(normalize=True)"
   ]
  },
  {
   "cell_type": "markdown",
   "metadata": {
    "colab_type": "text",
    "id": "4OK-HAE-I4Te"
   },
   "source": [
    "# Wrangle"
   ]
  },
  {
   "cell_type": "code",
   "execution_count": 78,
   "metadata": {
    "colab": {},
    "colab_type": "code",
    "id": "26Cz_1UnI4_f"
   },
   "outputs": [],
   "source": [
    "def wrangle(df, drop_date=True):\n",
    "    df = df.copy()\n",
    "\n",
    "    # change Date to datetime type\n",
    "    df['Date'] = pd.to_datetime(df['Date'])\n",
    "    # change date to index\n",
    "    df.index = pd.DatetimeIndex(df['Date'])\n",
    "\n",
    "    # not sure if this is needed, but since i'm doing just a basic train test\n",
    "    # split i want to make sure it's sorted\n",
    "    df = df.sort_index()\n",
    "\n",
    "    # add some time features\n",
    "    df['Day of Week'] = df['Date'].dt.weekday\n",
    "    df['Year'] = df['Date'].dt.year\n",
    "    df['Month'] = df['Date'].dt.month\n",
    "    df['Quarter'] = df['Date'].dt.quarter\n",
    "    df['Week'] = df['Date'].dt.quarter\n",
    "\n",
    "    # drop the actual date column\n",
    "    if drop_date:\n",
    "        df = df.drop('Date', axis=1)\n",
    "        \n",
    "    # Daily High - Daily Low\n",
    "    df['High - Low'] = df['High'] - df['Low']\n",
    "    df['High - Low as % of Close'] = df['High - Low'] / df['Close']\n",
    "    # High - Close\n",
    "    df['High - Close'] = df['High'] - df['Close']\n",
    "    df['High - Close as % of Close'] = df['High - Close'] / df['Close']\n",
    "    # High - Open\n",
    "    df['High - Open'] = df['High'] - df['Open']\n",
    "    df['High - Open as % of Close'] = df['High - Open'] / df['Close']\n",
    "    # Today Open - Yesterday Close\n",
    "    df['Open - Close'] = df['Open'] - df['Close'].shift(1)\n",
    "    df['Open - Close as % of Close'] = df['Open - Close'] / df['Close']\n",
    "\n",
    "\n",
    "    # add all the technical analysis features from ta\n",
    "    df = add_all_ta_features(df, \"Open\", \"High\", \"Low\", \"Close\",\n",
    "                               \"Volume\", fillna=False)\n",
    "\n",
    "    # some of the features use ~45 day rolling averages and stuff\n",
    "    # so i'll just skip the first 45 days\n",
    "    # and then i'll also remove the days that wont have the target\n",
    "    # since it hasn't happened yet (20 days out)\n",
    "    df = df.iloc[45:]\n",
    "\n",
    "    # i'm just going to divide every feature by every other feature\n",
    "    # there's gotta be a pattern in the data somewhere right\n",
    "    div_features = pd.DataFrame()\n",
    "    cols = df.select_dtypes('number').columns.tolist()\n",
    "    for first_col in cols:\n",
    "        for second_col in cols:\n",
    "            div_features['{} / {}'.format(first_col, second_col)] = df[first_col] / df[second_col]\n",
    "\n",
    "    df = pd.concat([df, div_features], axis=1)\n",
    "    \n",
    "    # now i gotta do something about all the inf values i just created\n",
    "    df = df.replace([np.inf, -np.inf], np.nan)\n",
    "    df = df.interpolate(method='time')\n",
    "    df = df.fillna(df.mean())\n",
    "\n",
    "    # delete all columns that are only one value\n",
    "    nunique = df.nunique()\n",
    "    df = df.drop(nunique[nunique == 1].index.tolist(), axis=1)\n",
    "    \n",
    "    # delete the columns that are over 50% missing\n",
    "    perc_missing = df.isna().sum() / len(df)\n",
    "    df = df.drop(perc_missing[perc_missing > .50].index.tolist(), axis=1)\n",
    "    \n",
    "    # done\n",
    "    return df "
   ]
  },
  {
   "cell_type": "code",
   "execution_count": 95,
   "metadata": {
    "colab": {
     "base_uri": "https://localhost:8080/",
     "height": 114
    },
    "colab_type": "code",
    "id": "iwSKnS-CNs_J",
    "outputId": "5c7b9d4b-9ae2-4f47-d30f-427ef2915a61"
   },
   "outputs": [
    {
     "data": {
      "text/plain": [
       "(6669, 5766)"
      ]
     },
     "execution_count": 95,
     "metadata": {},
     "output_type": "execute_result"
    }
   ],
   "source": [
    "# wrangle only the data for which i'd have the target\n",
    "df = wrangle(spy.iloc[:days_out])\n",
    "df.shape"
   ]
  },
  {
   "cell_type": "code",
   "execution_count": 97,
   "metadata": {},
   "outputs": [],
   "source": [
    "y = target[45:days_out]"
   ]
  },
  {
   "cell_type": "markdown",
   "metadata": {},
   "source": [
    "# EDA"
   ]
  },
  {
   "cell_type": "code",
   "execution_count": 14,
   "metadata": {},
   "outputs": [
    {
     "data": {
      "image/png": "[encoded data removed]",
      "text/plain": [
       "<Figure size 864x576 with 1 Axes>"
      ]
     },
     "metadata": {},
     "output_type": "display_data"
    }
   ],
   "source": [
    "fig = plt.figure(figsize=(12,8))\n",
    "fig.patch.set_facecolor('white')\n",
    "plt.plot(df.index, df['Close'], linewidth=1)\n",
    "plt.title('$SPY Close Price Since Jan 1993', fontsize=21)\n",
    "plt.xlabel('Year', fontsize=16)\n",
    "plt.ylabel('Close Price', fontsize=16)\n",
    "plt.show()"
   ]
  },
  {
   "cell_type": "code",
   "execution_count": 39,
   "metadata": {},
   "outputs": [
    {
     "data": {
      "image/png": "[encoded data removed]",
      "text/plain": [
       "<Figure size 864x576 with 1 Axes>"
      ]
     },
     "metadata": {},
     "output_type": "display_data"
    }
   ],
   "source": [
    "fig = plt.figure(figsize=(12,8))\n",
    "fig.patch.set_facecolor('white')\n",
    "close = plt.plot(df.iloc[-200:].index, df['Close'].iloc[-200:], linewidth=2, label='Close Price')\n",
    "bbh = plt.plot(df.iloc[-200:].index, df['volatility_bbh'].iloc[-200:], linewidth=2, label='High Bollinger Band')\n",
    "bbl = plt.plot(df.iloc[-200:].index, df['volatility_bbl'].iloc[-200:], linewidth=2, label='Low Bollinger Band')\n",
    "plt.title('$SPY Bollinger Bands Since Dec 2018', fontsize=21)\n",
    "plt.xlabel('Date', fontsize=16)\n",
    "plt.legend()\n",
    "plt.show()"
   ]
  },
  {
   "cell_type": "markdown",
   "metadata": {
    "colab_type": "text",
    "id": "eCFbBUwjNiQK"
   },
   "source": [
    "# Fit the model"
   ]
  },
  {
   "cell_type": "code",
   "execution_count": 98,
   "metadata": {
    "colab": {
     "base_uri": "https://localhost:8080/",
     "height": 36
    },
    "colab_type": "code",
    "id": "ONPBd_I3Kc1V",
    "outputId": "91cf4fd5-55f3-48b3-e635-59b7191328dc"
   },
   "outputs": [
    {
     "data": {
      "text/plain": [
       "((6499, 5766), (6499,), (150, 5766), (150,))"
      ]
     },
     "execution_count": 98,
     "metadata": {},
     "output_type": "execute_result"
    }
   ],
   "source": [
    "X_train = df.iloc[:-150 + days_out]\n",
    "X_test = df.iloc[-150:]\n",
    "y_train = y[:-150 + days_out]\n",
    "y_test = y[-150:]\n",
    "X_train.shape, y_train.shape, X_test.shape, y_test.shape"
   ]
  },
  {
   "cell_type": "code",
   "execution_count": 102,
   "metadata": {},
   "outputs": [
    {
     "data": {
      "text/plain": [
       "Timestamp('2019-01-24 00:00:00')"
      ]
     },
     "execution_count": 102,
     "metadata": {},
     "output_type": "execute_result"
    }
   ],
   "source": [
    "X_train.index.max()"
   ]
  },
  {
   "cell_type": "code",
   "execution_count": 103,
   "metadata": {},
   "outputs": [
    {
     "data": {
      "text/plain": [
       "Timestamp('2019-02-25 00:00:00')"
      ]
     },
     "execution_count": 103,
     "metadata": {},
     "output_type": "execute_result"
    }
   ],
   "source": [
    "X_test.index.min()"
   ]
  },
  {
   "cell_type": "code",
   "execution_count": 99,
   "metadata": {
    "colab": {},
    "colab_type": "code",
    "id": "g34sMX5VOZ-4"
   },
   "outputs": [
    {
     "name": "stdout",
     "output_type": "stream",
     "text": [
      "0.6933333333333334\n",
      "CPU times: user 10.7 s, sys: 388 ms, total: 11.1 s\n",
      "Wall time: 4.55 s\n"
     ]
    }
   ],
   "source": [
    "%%time\n",
    "\n",
    "clf = ExtraTreesClassifier(n_jobs = -1,\n",
    "                           n_estimators = 100,\n",
    "                           random_state = 42)\n",
    "clf.fit(X_train, y_train)\n",
    "print(clf.score(X_test, y_test))\n",
    "# 0.6"
   ]
  },
  {
   "cell_type": "code",
   "execution_count": 101,
   "metadata": {
    "colab": {},
    "colab_type": "code",
    "id": "XJopAzt1Og2V"
   },
   "outputs": [
    {
     "data": {
      "text/plain": [
       "True     0.6\n",
       "False    0.4\n",
       "Name: Up, dtype: float64"
      ]
     },
     "execution_count": 101,
     "metadata": {},
     "output_type": "execute_result"
    }
   ],
   "source": [
    "y_test.value_counts(normalize=True)"
   ]
  },
  {
   "cell_type": "code",
   "execution_count": 332,
   "metadata": {},
   "outputs": [
    {
     "data": {
      "text/plain": [
       "(array([False,  True]), array([ 55, 259]))"
      ]
     },
     "execution_count": 332,
     "metadata": {},
     "output_type": "execute_result"
    }
   ],
   "source": [
    "np.unique(ypred, return_counts=True)"
   ]
  },
  {
   "cell_type": "markdown",
   "metadata": {},
   "source": [
    "# Tuning"
   ]
  },
  {
   "cell_type": "code",
   "execution_count": 333,
   "metadata": {},
   "outputs": [
    {
     "name": "stdout",
     "output_type": "stream",
     "text": [
      "Fitting 5 folds for each of 100 candidates, totalling 500 fits\n"
     ]
    },
    {
     "name": "stderr",
     "output_type": "stream",
     "text": [
      "[Parallel(n_jobs=-1)]: Using backend LokyBackend with 32 concurrent workers.\n",
      "[Parallel(n_jobs=-1)]: Done 136 tasks      | elapsed:  1.7min\n",
      "[Parallel(n_jobs=-1)]: Done 386 tasks      | elapsed:  4.3min\n",
      "[Parallel(n_jobs=-1)]: Done 500 out of 500 | elapsed:  5.5min finished\n"
     ]
    }
   ],
   "source": [
    "n_estimators = [100,200,300,400,500,600,800,1200]\n",
    "max_depth = [5,6,7,8,9,10,11,12,13,14,15,20,25,30,35,40,45,50]\n",
    "min_samples_split = [2,4,5,6,7,8,9,10,11,12,13,14,15,16,18,20,25,30,35,40,45,50,55,60,70,80,90,100]\n",
    "min_samples_leaf = [1, 2, 5, 10,15,20,25] \n",
    "\n",
    "clf = ExtraTreesClassifier(n_jobs = -1,random_state = 42)\n",
    "\n",
    "hyperF = dict(n_estimators = n_estimators, max_depth = max_depth,  \n",
    "              min_samples_split = min_samples_split, \n",
    "             min_samples_leaf = min_samples_leaf)\n",
    "\n",
    "gridF = RandomizedSearchCV(clf, hyperF,n_iter=100, cv = 5, verbose = 1, \n",
    "                      n_jobs = -1)\n",
    "bestF = gridF.fit(X_train, y_train)"
   ]
  },
  {
   "cell_type": "code",
   "execution_count": 334,
   "metadata": {},
   "outputs": [
    {
     "data": {
      "text/plain": [
       "{'n_estimators': 500,\n",
       " 'min_samples_split': 14,\n",
       " 'min_samples_leaf': 1,\n",
       " 'max_depth': 5}"
      ]
     },
     "execution_count": 334,
     "metadata": {},
     "output_type": "execute_result"
    }
   ],
   "source": [
    "bestF.best_params_"
   ]
  },
  {
   "cell_type": "code",
   "execution_count": 106,
   "metadata": {},
   "outputs": [
    {
     "name": "stdout",
     "output_type": "stream",
     "text": [
      "0.6133333333333333\n"
     ]
    }
   ],
   "source": [
    "clf = ExtraTreesClassifier(n_jobs = -1,\n",
    "                           n_estimators = 100,\n",
    "                           random_state = 42)\n",
    "clf.fit(X_train, y_train)\n",
    "print(clf.score(X_test, y_test))\n",
    "#0.6369426751592356\n"
   ]
  },
  {
   "cell_type": "code",
   "execution_count": 336,
   "metadata": {},
   "outputs": [
    {
     "data": {
      "text/plain": [
       "True     0.6433\n",
       "False    0.3567\n",
       "Name: Up, dtype: float64"
      ]
     },
     "execution_count": 336,
     "metadata": {},
     "output_type": "execute_result"
    }
   ],
   "source": [
    "y_test.iloc[-days_out:].value_counts(normalize=True)"
   ]
  },
  {
   "cell_type": "code",
   "execution_count": 205,
   "metadata": {},
   "outputs": [
    {
     "data": {
      "text/plain": [
       "(array([False,  True]), array([27, 74]))"
      ]
     },
     "execution_count": 205,
     "metadata": {},
     "output_type": "execute_result"
    }
   ],
   "source": [
    "np.unique(ypred, return_counts=True)"
   ]
  }
 ],
 "metadata": {
  "accelerator": "GPU",
  "colab": {
   "collapsed_sections": [],
   "name": "Copy of Unit2ProjectFinal.ipynb",
   "provenance": []
  },
  "kernelspec": {
   "display_name": "Python 3",
   "language": "python",
   "name": "python3"
  },
  "language_info": {
   "codemirror_mode": {
    "name": "ipython",
    "version": 3
   },
   "file_extension": ".py",
   "mimetype": "text/x-python",
   "name": "python",
   "nbconvert_exporter": "python",
   "pygments_lexer": "ipython3",
   "version": "3.7.4"
  }
 },
 "nbformat": 4,
 "nbformat_minor": 1
}
